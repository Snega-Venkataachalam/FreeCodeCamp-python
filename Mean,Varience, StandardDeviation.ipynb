{
 "cells": [
  {
   "cell_type": "markdown",
   "id": "22ea1460",
   "metadata": {},
   "source": [
    "# FreeCodeCamp\n"
   ]
  },
  {
   "cell_type": "code",
   "execution_count": 1,
   "id": "8e63a2bf",
   "metadata": {},
   "outputs": [
    {
     "name": "stdout",
     "output_type": "stream",
     "text": [
      "{'mean': 4.0, 'variance': 6.666666666666667, 'standard deviation': 2.581988897471611, 'max': 8, 'min': 0, 'sum': 36}\n"
     ]
    }
   ],
   "source": [
    "import numpy as np\n",
    "\n",
    "def calculate(lst):\n",
    "    # Convert the list to a NumPy array\n",
    "    arr = np.array(lst)\n",
    "    \n",
    "    # Calculate mean along axis 0\n",
    "    mean = np.mean(arr, axis=0).tolist()\n",
    "    \n",
    "    # Calculate variance along axis 0\n",
    "    variance = np.var(arr, axis=0).tolist()\n",
    "    \n",
    "    # Calculate standard deviation along axis 0\n",
    "    std_dev = np.std(arr, axis=0).tolist()\n",
    "    \n",
    "    # Calculate maximum along axis 0\n",
    "    max_val = np.max(arr, axis=0).tolist()\n",
    "    \n",
    "    # Calculate minimum along axis 0\n",
    "    min_val = np.min(arr, axis=0).tolist()\n",
    "    \n",
    "    # Calculate sum along axis 0\n",
    "    sum_val = np.sum(arr, axis=0).tolist()\n",
    "    \n",
    "    return {\n",
    "        \"mean\": mean,\n",
    "        \"variance\": variance,\n",
    "        \"standard deviation\": std_dev,\n",
    "        \"max\": max_val,\n",
    "        \"min\": min_val,\n",
    "        \"sum\": sum_val\n",
    "    }\n",
    "\n",
    "# Example usage\n",
    "result = calculate([0, 1, 2, 3, 4, 5, 6, 7, 8])\n",
    "print(result)"
   ]
  }
 ],
 "metadata": {
  "kernelspec": {
   "display_name": "Python 3 (ipykernel)",
   "language": "python",
   "name": "python3"
  },
  "language_info": {
   "codemirror_mode": {
    "name": "ipython",
    "version": 3
   },
   "file_extension": ".py",
   "mimetype": "text/x-python",
   "name": "python",
   "nbconvert_exporter": "python",
   "pygments_lexer": "ipython3",
   "version": "3.11.4"
  }
 },
 "nbformat": 4,
 "nbformat_minor": 5
}
