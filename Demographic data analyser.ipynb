{
 "cells": [
  {
   "cell_type": "markdown",
   "id": "baea3823",
   "metadata": {},
   "source": [
    "# FreeCodeCamp"
   ]
  },
  {
   "cell_type": "markdown",
   "id": "7a4cd727",
   "metadata": {},
   "source": [
    "In this challenge you must analyze demographic data using Pandas. You are given a dataset of demographic data that was extracted from the 1994 Census database. Here is a sample of what the data looks like:"
   ]
  },
  {
   "cell_type": "code",
   "execution_count": null,
   "id": "2efd69c6",
   "metadata": {},
   "outputs": [],
   "source": []
  },
  {
   "cell_type": "markdown",
   "id": "4810a9c3",
   "metadata": {},
   "source": [
    "You must use Pandas to answer the following questions:\n",
    "\n",
    "1.How many people of each race are represented in this dataset? This should be a Pandas series with race names as the index labels. (race column)\n",
    "\n",
    "2.What is the average age of men?\n",
    "\n",
    "3.What is the percentage of people who have a Bachelor's degree?\n",
    "\n",
    "4.What percentage of people with advanced education (Bachelors, Masters, or Doctorate) make more than 50K?\n",
    "\n",
    "5.What percentage of people without advanced education make more than 50K?\n",
    "\n",
    "6.What is the minimum number of hours a person works per week?\n",
    "\n",
    "7.What percentage of the people who work the minimum number of hours per week have a salary of more than 50K?\n",
    "\n",
    "8.What country has the highest percentage of people that earn >50K and what is that percentage?\n",
    "Identify the most popular occupation for those who earn >50K in India."
   ]
  },
  {
   "cell_type": "code",
   "execution_count": 1,
   "id": "6d42127d",
   "metadata": {},
   "outputs": [],
   "source": [
    "import pandas as pd"
   ]
  },
  {
   "cell_type": "code",
   "execution_count": 2,
   "id": "3e48d771",
   "metadata": {},
   "outputs": [],
   "source": [
    "data = {\n",
    "    'age': [39, 50, 38, 53, 28],\n",
    "    'workclass': ['State-gov', 'Self-emp-not-inc', 'Private', 'Private', 'Private'],\n",
    "    'fnlwgt': [77516, 83311, 215646, 234721, 338409],\n",
    "    'education': ['Bachelors', 'Bachelors', 'HS-grad', '11th', 'Bachelors'],\n",
    "    'education-num': [13, 13, 9, 7, 13],\n",
    "    'marital-status': ['Never-married', 'Married-civ-spouse', 'Divorced', 'Married-civ-spouse', 'Married-civ-spouse'],\n",
    "    'occupation': ['Adm-clerical', 'Exec-managerial', 'Handlers-cleaners', 'Handlers-cleaners', 'Prof-specialty'],\n",
    "    'relationship': ['Not-in-family', 'Husband', 'Not-in-family', 'Husband', 'Wife'],\n",
    "    'race': ['White', 'White', 'White', 'Black', 'Black'],\n",
    "    'sex': ['Male', 'Male', 'Male', 'Male', 'Female'],\n",
    "    'capital-gain': [2174, 0, 0, 0, 0],\n",
    "    'capital-loss': [0, 0, 0, 0, 0],\n",
    "    'hours-per-week': [40, 13, 40, 40, 40],\n",
    "    'native-country': ['United-States', 'United-States', 'United-States', 'United-States', 'Cuba'],\n",
    "    'salary': ['<=50K', '<=50K', '<=50K', '<=50K', '<=50K']\n",
    "}\n",
    "# Create DataFrame\n",
    "df = pd.DataFrame(data)"
   ]
  },
  {
   "cell_type": "code",
   "execution_count": 3,
   "id": "7fb5d391",
   "metadata": {},
   "outputs": [
    {
     "data": {
      "text/html": [
       "<div>\n",
       "<style scoped>\n",
       "    .dataframe tbody tr th:only-of-type {\n",
       "        vertical-align: middle;\n",
       "    }\n",
       "\n",
       "    .dataframe tbody tr th {\n",
       "        vertical-align: top;\n",
       "    }\n",
       "\n",
       "    .dataframe thead th {\n",
       "        text-align: right;\n",
       "    }\n",
       "</style>\n",
       "<table border=\"1\" class=\"dataframe\">\n",
       "  <thead>\n",
       "    <tr style=\"text-align: right;\">\n",
       "      <th></th>\n",
       "      <th>age</th>\n",
       "      <th>workclass</th>\n",
       "      <th>fnlwgt</th>\n",
       "      <th>education</th>\n",
       "      <th>education-num</th>\n",
       "      <th>marital-status</th>\n",
       "      <th>occupation</th>\n",
       "      <th>relationship</th>\n",
       "      <th>race</th>\n",
       "      <th>sex</th>\n",
       "      <th>capital-gain</th>\n",
       "      <th>capital-loss</th>\n",
       "      <th>hours-per-week</th>\n",
       "      <th>native-country</th>\n",
       "      <th>salary</th>\n",
       "    </tr>\n",
       "  </thead>\n",
       "  <tbody>\n",
       "    <tr>\n",
       "      <th>0</th>\n",
       "      <td>39</td>\n",
       "      <td>State-gov</td>\n",
       "      <td>77516</td>\n",
       "      <td>Bachelors</td>\n",
       "      <td>13</td>\n",
       "      <td>Never-married</td>\n",
       "      <td>Adm-clerical</td>\n",
       "      <td>Not-in-family</td>\n",
       "      <td>White</td>\n",
       "      <td>Male</td>\n",
       "      <td>2174</td>\n",
       "      <td>0</td>\n",
       "      <td>40</td>\n",
       "      <td>United-States</td>\n",
       "      <td>&lt;=50K</td>\n",
       "    </tr>\n",
       "    <tr>\n",
       "      <th>1</th>\n",
       "      <td>50</td>\n",
       "      <td>Self-emp-not-inc</td>\n",
       "      <td>83311</td>\n",
       "      <td>Bachelors</td>\n",
       "      <td>13</td>\n",
       "      <td>Married-civ-spouse</td>\n",
       "      <td>Exec-managerial</td>\n",
       "      <td>Husband</td>\n",
       "      <td>White</td>\n",
       "      <td>Male</td>\n",
       "      <td>0</td>\n",
       "      <td>0</td>\n",
       "      <td>13</td>\n",
       "      <td>United-States</td>\n",
       "      <td>&lt;=50K</td>\n",
       "    </tr>\n",
       "    <tr>\n",
       "      <th>2</th>\n",
       "      <td>38</td>\n",
       "      <td>Private</td>\n",
       "      <td>215646</td>\n",
       "      <td>HS-grad</td>\n",
       "      <td>9</td>\n",
       "      <td>Divorced</td>\n",
       "      <td>Handlers-cleaners</td>\n",
       "      <td>Not-in-family</td>\n",
       "      <td>White</td>\n",
       "      <td>Male</td>\n",
       "      <td>0</td>\n",
       "      <td>0</td>\n",
       "      <td>40</td>\n",
       "      <td>United-States</td>\n",
       "      <td>&lt;=50K</td>\n",
       "    </tr>\n",
       "    <tr>\n",
       "      <th>3</th>\n",
       "      <td>53</td>\n",
       "      <td>Private</td>\n",
       "      <td>234721</td>\n",
       "      <td>11th</td>\n",
       "      <td>7</td>\n",
       "      <td>Married-civ-spouse</td>\n",
       "      <td>Handlers-cleaners</td>\n",
       "      <td>Husband</td>\n",
       "      <td>Black</td>\n",
       "      <td>Male</td>\n",
       "      <td>0</td>\n",
       "      <td>0</td>\n",
       "      <td>40</td>\n",
       "      <td>United-States</td>\n",
       "      <td>&lt;=50K</td>\n",
       "    </tr>\n",
       "    <tr>\n",
       "      <th>4</th>\n",
       "      <td>28</td>\n",
       "      <td>Private</td>\n",
       "      <td>338409</td>\n",
       "      <td>Bachelors</td>\n",
       "      <td>13</td>\n",
       "      <td>Married-civ-spouse</td>\n",
       "      <td>Prof-specialty</td>\n",
       "      <td>Wife</td>\n",
       "      <td>Black</td>\n",
       "      <td>Female</td>\n",
       "      <td>0</td>\n",
       "      <td>0</td>\n",
       "      <td>40</td>\n",
       "      <td>Cuba</td>\n",
       "      <td>&lt;=50K</td>\n",
       "    </tr>\n",
       "  </tbody>\n",
       "</table>\n",
       "</div>"
      ],
      "text/plain": [
       "   age         workclass  fnlwgt  education  education-num  \\\n",
       "0   39         State-gov   77516  Bachelors             13   \n",
       "1   50  Self-emp-not-inc   83311  Bachelors             13   \n",
       "2   38           Private  215646    HS-grad              9   \n",
       "3   53           Private  234721       11th              7   \n",
       "4   28           Private  338409  Bachelors             13   \n",
       "\n",
       "       marital-status         occupation   relationship   race     sex  \\\n",
       "0       Never-married       Adm-clerical  Not-in-family  White    Male   \n",
       "1  Married-civ-spouse    Exec-managerial        Husband  White    Male   \n",
       "2            Divorced  Handlers-cleaners  Not-in-family  White    Male   \n",
       "3  Married-civ-spouse  Handlers-cleaners        Husband  Black    Male   \n",
       "4  Married-civ-spouse     Prof-specialty           Wife  Black  Female   \n",
       "\n",
       "   capital-gain  capital-loss  hours-per-week native-country salary  \n",
       "0          2174             0              40  United-States  <=50K  \n",
       "1             0             0              13  United-States  <=50K  \n",
       "2             0             0              40  United-States  <=50K  \n",
       "3             0             0              40  United-States  <=50K  \n",
       "4             0             0              40           Cuba  <=50K  "
      ]
     },
     "execution_count": 3,
     "metadata": {},
     "output_type": "execute_result"
    }
   ],
   "source": [
    "df"
   ]
  },
  {
   "cell_type": "markdown",
   "id": "a17d8441",
   "metadata": {},
   "source": [
    "How many people of each race are represented in this dataset?"
   ]
  },
  {
   "cell_type": "code",
   "execution_count": 4,
   "id": "496ec6b2",
   "metadata": {},
   "outputs": [
    {
     "name": "stdout",
     "output_type": "stream",
     "text": [
      "White    3\n",
      "Black    2\n",
      "Name: race, dtype: int64\n"
     ]
    }
   ],
   "source": [
    "race_count = df['race'].value_counts()\n",
    "print(race_count)"
   ]
  },
  {
   "cell_type": "markdown",
   "id": "3997af9d",
   "metadata": {},
   "source": [
    "What is the average age of men?"
   ]
  },
  {
   "cell_type": "code",
   "execution_count": 5,
   "id": "80517dcd",
   "metadata": {},
   "outputs": [
    {
     "name": "stdout",
     "output_type": "stream",
     "text": [
      "45.0\n"
     ]
    }
   ],
   "source": [
    "average_age_men = df[df['sex'] == 'Male']['age'].mean()\n",
    "print(average_age_men)"
   ]
  },
  {
   "cell_type": "code",
   "execution_count": 6,
   "id": "576224c2",
   "metadata": {},
   "outputs": [
    {
     "name": "stdout",
     "output_type": "stream",
     "text": [
      "Object `degree` not found.\n"
     ]
    }
   ],
   "source": [
    "What is the percentage of people who have a Bachelor's degree?"
   ]
  },
  {
   "cell_type": "code",
   "execution_count": 7,
   "id": "cc91e4bc",
   "metadata": {},
   "outputs": [
    {
     "name": "stdout",
     "output_type": "stream",
     "text": [
      "60.0\n"
     ]
    }
   ],
   "source": [
    "bachelors_count = df[df['education'] == 'Bachelors'].shape[0]\n",
    "total_count = df.shape[0]\n",
    "percentage_bachelors = (bachelors_count / total_count) * 100\n",
    "print(percentage_bachelors)\n"
   ]
  },
  {
   "cell_type": "markdown",
   "id": "f89f8c6e",
   "metadata": {},
   "source": [
    "What percentage of people with advanced education (Bachelors, Masters, or Doctorate) make more than 50K?"
   ]
  },
  {
   "cell_type": "code",
   "execution_count": 8,
   "id": "be4d0b12",
   "metadata": {},
   "outputs": [
    {
     "name": "stdout",
     "output_type": "stream",
     "text": [
      "0.0\n"
     ]
    }
   ],
   "source": [
    "advanced_education = df[df['education'].isin(['Bachelors', 'Masters', 'Doctorate'])]\n",
    "higher_education_count = advanced_education.shape[0]\n",
    "higher_education_rich = advanced_education[advanced_education['salary'] == '>50K'].shape[0]\n",
    "percentage_higher_education_rich = (higher_education_rich / higher_education_count) * 100\n",
    "print(percentage_higher_education_rich)\n"
   ]
  },
  {
   "cell_type": "markdown",
   "id": "63593c9a",
   "metadata": {},
   "source": [
    "What percentage of people without advanced education make more than 50K?\n",
    "python\n"
   ]
  },
  {
   "cell_type": "code",
   "execution_count": 9,
   "id": "cac01c24",
   "metadata": {},
   "outputs": [
    {
     "name": "stdout",
     "output_type": "stream",
     "text": [
      "0.0\n"
     ]
    }
   ],
   "source": [
    "non_advanced_education = df[~df['education'].isin(['Bachelors', 'Masters', 'Doctorate'])]\n",
    "lower_education_count = non_advanced_education.shape[0]\n",
    "lower_education_rich = non_advanced_education[non_advanced_education['salary'] == '>50K'].shape[0]\n",
    "percentage_lower_education_rich = (lower_education_rich / lower_education_count) * 100\n",
    "print(percentage_lower_education_rich)\n"
   ]
  },
  {
   "cell_type": "markdown",
   "id": "2707e4d8",
   "metadata": {},
   "source": [
    "What country has the highest percentage of people that earn >50K and what is that percentage?"
   ]
  },
  {
   "cell_type": "code",
   "execution_count": 10,
   "id": "3c13f9d3",
   "metadata": {},
   "outputs": [
    {
     "name": "stdout",
     "output_type": "stream",
     "text": [
      "There are no individuals with salary >50K in the dataset.\n"
     ]
    }
   ],
   "source": [
    "# Filter the DataFrame for people with salary >50K\n",
    "high_earning_df = df[df['salary'] == '>50K']\n",
    "\n",
    "if not high_earning_df.empty:\n",
    "    # If there are people with salary >50K, calculate the percentage for each country\n",
    "    country_counts = high_earning_df['native-country'].value_counts()\n",
    "    highest_earning_country = country_counts.idxmax()\n",
    "    highest_earning_country_percentage = (country_counts.max() / high_earning_df.shape[0]) * 100\n",
    "    print(highest_earning_country, highest_earning_country_percentage)\n",
    "else:\n",
    "    # If there are no people with salary >50K, print a message indicating so\n",
    "    print(\"There are no individuals with salary >50K in the dataset.\")\n"
   ]
  },
  {
   "cell_type": "markdown",
   "id": "ecb97280",
   "metadata": {},
   "source": [
    "Identify the most popular occupation for those who earn >50K in India."
   ]
  },
  {
   "cell_type": "code",
   "execution_count": 11,
   "id": "7ab6bb6d",
   "metadata": {},
   "outputs": [
    {
     "name": "stdout",
     "output_type": "stream",
     "text": [
      "There are no individuals from India with salary >50K in the dataset.\n"
     ]
    }
   ],
   "source": [
    "# Filter the DataFrame for individuals from India with salary >50K\n",
    "high_earning_indians_df = df[(df['native-country'] == 'India') & (df['salary'] == '>50K')]\n",
    "\n",
    "if not high_earning_indians_df.empty:\n",
    "    # If there are high-earning individuals from India, find the most popular occupation\n",
    "    top_occupation_india = high_earning_indians_df['occupation'].value_counts().idxmax()\n",
    "    print(top_occupation_india)\n",
    "else:\n",
    "    # If there are no high-earning individuals from India, print a message indicating so\n",
    "    print(\"There are no individuals from India with salary >50K in the dataset.\")\n"
   ]
  },
  {
   "cell_type": "code",
   "execution_count": null,
   "id": "3814a973",
   "metadata": {},
   "outputs": [],
   "source": []
  }
 ],
 "metadata": {
  "kernelspec": {
   "display_name": "Python 3 (ipykernel)",
   "language": "python",
   "name": "python3"
  },
  "language_info": {
   "codemirror_mode": {
    "name": "ipython",
    "version": 3
   },
   "file_extension": ".py",
   "mimetype": "text/x-python",
   "name": "python",
   "nbconvert_exporter": "python",
   "pygments_lexer": "ipython3",
   "version": "3.11.4"
  }
 },
 "nbformat": 4,
 "nbformat_minor": 5
}
